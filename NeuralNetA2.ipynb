{
 "cells": [
  {
   "cell_type": "code",
   "execution_count": 84,
   "id": "d085c29a",
   "metadata": {},
   "outputs": [
    {
     "name": "stdout",
     "output_type": "stream",
     "text": [
      "Epoch 0, Loss: [[-0.07501864]]\n",
      "Epoch 1, Loss: [[-0.07480678]]\n",
      "\n",
      "Final outputs:\n",
      "[[0.87480678]]\n"
     ]
    }
   ],
   "source": [
    "import numpy as np\n",
    "\n",
    "# Activation function\n",
    "def sigmoid(x):\n",
    "    return 1 / (1 + np.exp(-x))\n",
    "\n",
    "# Derivative of sigmoid\n",
    "def sigmoid_derivative(x):\n",
    "    return x * (1 - x)\n",
    "\n",
    "# Loss function described in slides\n",
    "def difference(y_true, y_pred):\n",
    "    return (y_true - y_pred)\n",
    "\n",
    "# Data from sample question\n",
    "X = np.array([[.4,.2,.7]])\n",
    "# Bias from slides\n",
    "y = np.array([.8])\n",
    "\n",
    "# Network architecture\n",
    "input_size = 3\n",
    "hidden_size = 2\n",
    "output_size = 1\n",
    "lr = 0.1  # learning rate\n",
    "epochs = 2\n",
    "\n",
    "# Weights from slides\n",
    "# Weights come in 2's because 'input_0' has two connections going outwards to 'hidden_0' and 'hidden_1'\n",
    "W1 = np.array([\n",
    "    [.6, .9],\n",
    "    [.8, .8],\n",
    "    [.6, .4]])\n",
    "b1 = np.array([[0.5, 0.7]])\n",
    "W2 = np.array([\n",
    "    [0.9],\n",
    "    [0.9]])\n",
    "b2 = np.array([[.5]])\n",
    "\n",
    "# Training loop\n",
    "for epoch in range(epochs):\n",
    "    # FOrward pass\n",
    "    z1 = np.dot(X, W1) + b1\n",
    "    a1 = sigmoid(z1)\n",
    "    z2 = np.dot(a1, W2) + b2\n",
    "    a2 = sigmoid(z2)\n",
    "\n",
    "    # loss function\n",
    "    loss = difference(y[0], a2)\n",
    "    # Back prop\n",
    "    d_a2 = (y - a2)\n",
    "    d_z2 = d_a2 * sigmoid_derivative(a2)\n",
    "    d_W2 = np.dot(a1.T, d_z2)\n",
    "    d_b2 = np.sum(d_z2, axis=0, keepdims=True)\n",
    "\n",
    "    d_a1 = np.dot(d_z2, W2.T)\n",
    "    d_z1 = d_a1 * sigmoid_derivative(a1)\n",
    "    d_W1 = np.dot(X.T, d_z1)\n",
    "    d_b1 = np.sum(d_z1, axis=0, keepdims=True)\n",
    "\n",
    "    # Gradient descent\n",
    "    W2 += lr * d_W2\n",
    "    b2 += lr * d_b2\n",
    "    W1 += lr * d_W1\n",
    "    b1 += lr * d_b1\n",
    "\n",
    "    # Print loss if needed\n",
    "    print(f\"Epoch {epoch}, Loss: {loss}\")\n",
    "\n",
    "# Final predictions\n",
    "print(\"\\nFinal outputs:\")\n",
    "print(a2.round(9))"
   ]
  }
 ],
 "metadata": {
  "kernelspec": {
   "display_name": "Python 3 (ipykernel)",
   "language": "python",
   "name": "python3"
  },
  "language_info": {
   "codemirror_mode": {
    "name": "ipython",
    "version": 3
   },
   "file_extension": ".py",
   "mimetype": "text/x-python",
   "name": "python",
   "nbconvert_exporter": "python",
   "pygments_lexer": "ipython3",
   "version": "3.12.11"
  }
 },
 "nbformat": 4,
 "nbformat_minor": 5
}
